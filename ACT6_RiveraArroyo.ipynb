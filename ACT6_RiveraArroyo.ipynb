{
  "nbformat": 4,
  "nbformat_minor": 0,
  "metadata": {
    "colab": {
      "name": "ACT6_RiveraArroyo.ipynb",
      "provenance": [],
      "authorship_tag": "ABX9TyNKBc630k+rTxrDHYjcxJXe",
      "include_colab_link": true
    },
    "kernelspec": {
      "name": "python3",
      "display_name": "Python 3"
    },
    "language_info": {
      "name": "python"
    }
  },
  "cells": [
    {
      "cell_type": "markdown",
      "metadata": {
        "id": "view-in-github",
        "colab_type": "text"
      },
      "source": [
        "<a href=\"https://colab.research.google.com/github/manutije/Actividades-Pauchis/blob/main/ACT6_RiveraArroyo.ipynb\" target=\"_parent\"><img src=\"https://colab.research.google.com/assets/colab-badge.svg\" alt=\"Open In Colab\"/></a>"
      ]
    },
    {
      "cell_type": "markdown",
      "source": [
        "# Actividad 6 \n",
        "## Paula Rivera Arroyo\n",
        "### Jueves 25 de Agosto de 2022"
      ],
      "metadata": {
        "id": "_AqgqhvnIyXw"
      }
    },
    {
      "cell_type": "code",
      "source": [],
      "metadata": {
        "id": "mNQYxLddI-8D"
      },
      "execution_count": null,
      "outputs": []
    }
  ]
}