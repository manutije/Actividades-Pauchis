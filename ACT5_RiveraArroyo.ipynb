{
  "nbformat": 4,
  "nbformat_minor": 0,
  "metadata": {
    "colab": {
      "name": "ACT5_RiveraArroyo",
      "provenance": [],
      "authorship_tag": "ABX9TyPVk/tkPj8RhjpVwbqpVlLe",
      "include_colab_link": true
    },
    "kernelspec": {
      "name": "python3",
      "display_name": "Python 3"
    },
    "language_info": {
      "name": "python"
    }
  },
  "cells": [
    {
      "cell_type": "markdown",
      "metadata": {
        "id": "view-in-github",
        "colab_type": "text"
      },
      "source": [
        "<a href=\"https://colab.research.google.com/github/manutije/Actividades-Pauchis/blob/main/ACT5_RiveraArroyo.ipynb\" target=\"_parent\"><img src=\"https://colab.research.google.com/assets/colab-badge.svg\" alt=\"Open In Colab\"/></a>"
      ]
    },
    {
      "cell_type": "markdown",
      "source": [
        "# Actividad 5\n",
        "## Rivera Arroyo Paula\n",
        "#### Viernes 19 de Agosto de 2022"
      ],
      "metadata": {
        "id": "Jgni2M938nAw"
      }
    },
    {
      "cell_type": "code",
      "execution_count": null,
      "metadata": {
        "id": "gpnVxVJJ8mEO"
      },
      "outputs": [],
      "source": [
        "import numpy as np\n",
        "import matplotlib.pyplot as plt"
      ]
    },
    {
      "cell_type": "markdown",
      "source": [
        "### a) Encuentra la ecuación de la recta que pasa por los puntos A=(-1,6) y B=(3,-4)."
      ],
      "metadata": {
        "id": "YroYQUAzwAYb"
      }
    },
    {
      "cell_type": "code",
      "source": [
        "# Creacion del vector 1\n",
        "x1 = np.array([-1, 3])\n",
        "y1 = np.array([6, -4])"
      ],
      "metadata": {
        "id": "KrP-PZ3K8zhE"
      },
      "execution_count": null,
      "outputs": []
    },
    {
      "cell_type": "code",
      "source": [
        "# Ecuacion de la recta vector 1\n",
        "m_1, b_1 = np.polyfit(x1, y1, deg=1)\n",
        "x_1 = np.linspace(-25,25,50)\n",
        "y_1 = (x_1 * m_1) + b_1\n",
        "print(\"La ecuacion de la recta es: y = \" + str(m_1) + \"x + \" + str(b_1))"
      ],
      "metadata": {
        "colab": {
          "base_uri": "https://localhost:8080/"
        },
        "id": "oaQH9NCq9O_E",
        "outputId": "7fe09248-cf01-48bf-c6e2-b4c82b2d77e2"
      },
      "execution_count": null,
      "outputs": [
        {
          "output_type": "stream",
          "name": "stdout",
          "text": [
            "La ecuacion de la recta es: y = -2.499999999999999x + 3.499999999999999\n"
          ]
        }
      ]
    },
    {
      "cell_type": "markdown",
      "source": [
        "### b) Encuentra la ecuación de la recta paralela a la anterior y que pasa por el punto C=(2,7)"
      ],
      "metadata": {
        "id": "94OaCdVCwzRe"
      }
    },
    {
      "cell_type": "code",
      "source": [
        "# Encontrar ecuacion de la recta paralela\n",
        "x2 = 2\n",
        "y2 = 7\n",
        "m_2 = m_1\n",
        "temp = m_2 * x2\n",
        "b_2 = (y2 -temp)\n",
        "x_2 = np.linspace(-25,25,50)\n",
        "y_2 = (x_2 * m_2) + b_2\n",
        "print(\"La ecuacion de la recta es: y = \" + str(m_2) + \"x + \" + str(b_2))\n"
      ],
      "metadata": {
        "colab": {
          "base_uri": "https://localhost:8080/"
        },
        "id": "IylF52gN9mAd",
        "outputId": "0b6f637f-9901-4b03-893c-bd62101607bb"
      },
      "execution_count": null,
      "outputs": [
        {
          "output_type": "stream",
          "name": "stdout",
          "text": [
            "La ecuacion de la recta es: y = -2.499999999999999x + 11.999999999999998\n"
          ]
        }
      ]
    },
    {
      "cell_type": "markdown",
      "source": [
        "### c) Encuentra la ecuación de la recta perpendicular a las anteriores y que pasa por el punto D=(-5,6)"
      ],
      "metadata": {
        "id": "XOfbEbvrxBNQ"
      }
    },
    {
      "cell_type": "code",
      "source": [
        "x3 = -5\n",
        "y3 = 6\n",
        "m_3 = (1 / m_2) * -1\n",
        "temp = m_3 * x3\n",
        "b_3 = (y3 - temp)\n",
        "x_3 = np.linspace(-25,25,50)\n",
        "y_3 = (m_3 * x_3) + b_3\n",
        "print(\"La ecuacion de la recta es: y = \" + str(m_3) + \"x + \" + str(b_3))\n"
      ],
      "metadata": {
        "colab": {
          "base_uri": "https://localhost:8080/"
        },
        "id": "PV9XLevBBuLb",
        "outputId": "70682d2c-d121-4616-dd5b-f12c707229ec"
      },
      "execution_count": null,
      "outputs": [
        {
          "output_type": "stream",
          "name": "stdout",
          "text": [
            "La ecuacion de la recta es: y = 0.40000000000000013x + 8.0\n"
          ]
        }
      ]
    },
    {
      "cell_type": "markdown",
      "source": [
        "### d) Grafica las tres rectas en un mismo plano cartesiano."
      ],
      "metadata": {
        "id": "LVObq8-RxLln"
      }
    },
    {
      "cell_type": "code",
      "source": [
        "fig,ax = plt.subplots()\n",
        "ax.set_title('Grafica')\n",
        "ax.set_xlabel('Eje x')\n",
        "ax.set_ylabel('Eje y')\n",
        "ax.plot(x_1,y_1,'-', label='y = -2.49x + 3.49')\n",
        "ax.plot(x_2,y_2,'-', label='y = -2.49x + 11.99')\n",
        "ax.plot(x_3,y_3,'-', label='y = 0.40x + 8.0', color='red')\n",
        "ax.grid()\n",
        "ax.legend(loc='best')"
      ],
      "metadata": {
        "colab": {
          "base_uri": "https://localhost:8080/",
          "height": 313
        },
        "id": "Mh6a5dap-I2x",
        "outputId": "c9a736ac-e954-4dac-f486-95cf95327846"
      },
      "execution_count": null,
      "outputs": [
        {
          "output_type": "execute_result",
          "data": {
            "text/plain": [
              "<matplotlib.legend.Legend at 0x7f5f8d3ab8d0>"
            ]
          },
          "metadata": {},
          "execution_count": 6
        },
        {
          "output_type": "display_data",
          "data": {
            "text/plain": [
              "<Figure size 432x288 with 1 Axes>"
            ],
            "image/png": "[encoded data removed]"
          },
          "metadata": {
            "needs_background": "light"
          }
        }
      ]
    },
    {
      "cell_type": "markdown",
      "source": [
        "## 2. Transforma las siguientes ecuaciones generales en su forma principal y grafica:\n",
        "\n",
        "#### a) 6x – 2y + 8 = 0\n"
      ],
      "metadata": {
        "id": "PcA-uzChxcLi"
      }
    },
    {
      "cell_type": "markdown",
      "source": [
        "-2y + 8 = -6x\n",
        "\n",
        "-2y = -6x + 8\n",
        "\n",
        "y = (-6x +8) / -2\n",
        "\n",
        "y = 3x + 4"
      ],
      "metadata": {
        "id": "npye1UhuxzCD"
      }
    },
    {
      "cell_type": "code",
      "source": [
        "m_4 = 3\n",
        "b_4 = 4\n",
        "x_4 = np.linspace(-25,25,50)\n",
        "y_4 = (x_4 * m_4) + b_4\n",
        "fig,ax = plt.subplots()\n",
        "ax.set_title('y = 3x + 4')\n",
        "ax.set_xlabel('Eje x')\n",
        "ax.set_ylabel('Eje y')\n",
        "ax.plot(x_4,y_4,'-')\n",
        "ax.grid()"
      ],
      "metadata": {
        "colab": {
          "base_uri": "https://localhost:8080/",
          "height": 295
        },
        "id": "o3e5KXJ2yXHD",
        "outputId": "8d8ba79c-729b-4687-ed23-65fe7d7d3491"
      },
      "execution_count": null,
      "outputs": [
        {
          "output_type": "display_data",
          "data": {
            "text/plain": [
              "<Figure size 432x288 with 1 Axes>"
            ],
            "image/png": "[encoded data removed]"
          },
          "metadata": {
            "needs_background": "light"
          }
        }
      ]
    },
    {
      "cell_type": "markdown",
      "source": [
        "#### b)4x + 3y + 9 = 0"
      ],
      "metadata": {
        "id": "lnlqS4Ik0RzS"
      }
    },
    {
      "cell_type": "markdown",
      "source": [
        "3y + 9 = -4x\n",
        "\n",
        "3y = -4x + 9\n",
        "\n",
        "y = - (4/3) x -3"
      ],
      "metadata": {
        "id": "Y7hmPED3ytCV"
      }
    },
    {
      "cell_type": "code",
      "source": [
        "m_5 = -(4/3)\n",
        "b_5 = -3\n",
        "x_5 = np.linspace(-25,25,50)\n",
        "y_5 = (x_5 * m_5) + b_5\n",
        "fig,ax = plt.subplots()\n",
        "ax.set_title('y = - (4/3) x -3')\n",
        "ax.set_xlabel('Eje x')\n",
        "ax.set_ylabel('Eje y')\n",
        "ax.plot(x_5,y_5,'-')\n",
        "ax.grid()"
      ],
      "metadata": {
        "colab": {
          "base_uri": "https://localhost:8080/",
          "height": 295
        },
        "id": "xPsXGhnlzBNI",
        "outputId": "3dcdcbc2-e39a-4ad9-8dfd-5cc10f3901d7"
      },
      "execution_count": null,
      "outputs": [
        {
          "output_type": "display_data",
          "data": {
            "text/plain": [
              "<Figure size 432x288 with 1 Axes>"
            ],
            "image/png": "[encoded data removed]"
          },
          "metadata": {
            "needs_background": "light"
          }
        }
      ]
    },
    {
      "cell_type": "code",
      "source": [
        ""
      ],
      "metadata": {
        "id": "mSCEXufIzs5y"
      },
      "execution_count": null,
      "outputs": []
    }
  ]
}