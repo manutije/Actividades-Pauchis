{
  "nbformat": 4,
  "nbformat_minor": 0,
  "metadata": {
    "colab": {
      "name": "ACT4_RiveraArroyo",
      "provenance": [],
      "authorship_tag": "ABX9TyOuHZKzkAgfLo6N5toDcRPA",
      "include_colab_link": true
    },
    "kernelspec": {
      "name": "python3",
      "display_name": "Python 3"
    },
    "language_info": {
      "name": "python"
    }
  },
  "cells": [
    {
      "cell_type": "markdown",
      "metadata": {
        "id": "view-in-github",
        "colab_type": "text"
      },
      "source": [
        "<a href=\"https://colab.research.google.com/github/manutije/Actividades-Pauchis/blob/main/ACT4_RiveraArroyo.ipynb\" target=\"_parent\"><img src=\"https://colab.research.google.com/assets/colab-badge.svg\" alt=\"Open In Colab\"/></a>"
      ]
    },
    {
      "cell_type": "code",
      "execution_count": null,
      "metadata": {
        "id": "RXdGaZY_ZKid"
      },
      "outputs": [],
      "source": [
        "import matplotlib.pyplot as plt\n",
        "import numpy as np\n"
      ]
    },
    {
      "cell_type": "code",
      "source": [
        "x1 = np.array([-2,1])\n",
        "y1 = np.array([5,6])"
      ],
      "metadata": {
        "id": "zamQc-J3Zhd9"
      },
      "execution_count": null,
      "outputs": []
    },
    {
      "cell_type": "code",
      "source": [
        "x2 = np.array([-6,4])\n",
        "y2 = np.array([-3,2])"
      ],
      "metadata": {
        "id": "1N74HqeYbDOK"
      },
      "execution_count": null,
      "outputs": []
    },
    {
      "cell_type": "code",
      "source": [
        "x3 = np.array([-6,4])\n",
        "y3 = np.array([1,-1])"
      ],
      "metadata": {
        "id": "JWIkufBXbRf2"
      },
      "execution_count": null,
      "outputs": []
    },
    {
      "cell_type": "code",
      "source": [
        "m1,b1 = np.polyfit(x1,y1, deg=1)\n",
        "print(m1,b1)"
      ],
      "metadata": {
        "colab": {
          "base_uri": "https://localhost:8080/"
        },
        "id": "COMTP-JMZZk5",
        "outputId": "cdfdebaf-977e-4f1a-eb04-8bc2b2aebff0"
      },
      "execution_count": null,
      "outputs": [
        {
          "output_type": "stream",
          "name": "stdout",
          "text": [
            "0.3333333333333331 5.666666666666666\n"
          ]
        }
      ]
    },
    {
      "cell_type": "code",
      "source": [
        "m2,b2 = np.polyfit(x2,y2, deg=1)\n",
        "print(m2,b2)"
      ],
      "metadata": {
        "colab": {
          "base_uri": "https://localhost:8080/"
        },
        "id": "CIhRASxxbZas",
        "outputId": "caf8187f-59ee-46d7-eb80-7c9ac93dfd3c"
      },
      "execution_count": null,
      "outputs": [
        {
          "output_type": "stream",
          "name": "stdout",
          "text": [
            "0.5 -7.988884833505609e-16\n"
          ]
        }
      ]
    },
    {
      "cell_type": "code",
      "source": [
        "m3,b3 = np.polyfit(x3,y3, deg=1)\n",
        "print(m3,b3)"
      ],
      "metadata": {
        "colab": {
          "base_uri": "https://localhost:8080/"
        },
        "id": "RepwWisnbZrG",
        "outputId": "534c7a81-5592-4d40-cced-5e52ca70075c"
      },
      "execution_count": null,
      "outputs": [
        {
          "output_type": "stream",
          "name": "stdout",
          "text": [
            "-0.19999999999999998 -0.1999999999999998\n"
          ]
        }
      ]
    },
    {
      "cell_type": "code",
      "source": [
        "fig,ax = plt.subplots()\n",
        "ax.set_title('Grafica')\n",
        "ax.set_xlabel('Eje x')\n",
        "ax.set_ylabel('Eje y')\n",
        "ax.plot(x1,y1,'-', label='y = 0.33x + 5.6')\n",
        "ax.plot(x2,y2,'-', label='y = 0.5x + -7.988884833505609e-16')\n",
        "ax.plot(x3,y3,'-', label='y = -0.19x -0.19')\n",
        "ax.legend(loc='best')"
      ],
      "metadata": {
        "colab": {
          "base_uri": "https://localhost:8080/",
          "height": 313
        },
        "id": "RgykBTU4aIWH",
        "outputId": "55eee9ff-95db-4021-93be-55bcf2414e8f"
      },
      "execution_count": null,
      "outputs": [
        {
          "output_type": "execute_result",
          "data": {
            "text/plain": [
              "<matplotlib.legend.Legend at 0x7f47de762ed0>"
            ]
          },
          "metadata": {},
          "execution_count": 44
        },
        {
          "output_type": "display_data",
          "data": {
            "text/plain": [
              "<Figure size 432x288 with 1 Axes>"
            ],
            "image/png": "[encoded data removed]"
          },
          "metadata": {
            "needs_background": "light"
          }
        }
      ]
    },
    {
      "cell_type": "code",
      "source": [
        ""
      ],
      "metadata": {
        "id": "Sq2qd9DZao3b"
      },
      "execution_count": null,
      "outputs": []
    }
  ]
}