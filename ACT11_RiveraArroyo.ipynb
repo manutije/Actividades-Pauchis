{
  "nbformat": 4,
  "nbformat_minor": 0,
  "metadata": {
    "colab": {
      "provenance": [],
      "authorship_tag": "ABX9TyNz3RIkmwGgwuO26Xo634b2",
      "include_colab_link": true
    },
    "kernelspec": {
      "name": "python3",
      "display_name": "Python 3"
    },
    "language_info": {
      "name": "python"
    }
  },
  "cells": [
    {
      "cell_type": "markdown",
      "metadata": {
        "id": "view-in-github",
        "colab_type": "text"
      },
      "source": [
        "<a href=\"https://colab.research.google.com/github/manutije/Actividades-Pauchis/blob/main/ACT11_RiveraArroyo.ipynb\" target=\"_parent\"><img src=\"https://colab.research.google.com/assets/colab-badge.svg\" alt=\"Open In Colab\"/></a>"
      ]
    },
    {
      "cell_type": "code",
      "execution_count": 1,
      "metadata": {
        "id": "Leb078WH4d2n"
      },
      "outputs": [],
      "source": [
        "import numpy as np\n",
        "import matplotlib.pyplot as plt"
      ]
    },
    {
      "cell_type": "code",
      "source": [
        "x = np.linspace(0,23)"
      ],
      "metadata": {
        "id": "sqiBoR3V4evF"
      },
      "execution_count": 2,
      "outputs": []
    },
    {
      "cell_type": "code",
      "source": [
        "f1 = (12.58*x)/(1+(0.54*x))"
      ],
      "metadata": {
        "id": "PIp9UtKo4l_D"
      },
      "execution_count": 3,
      "outputs": []
    },
    {
      "cell_type": "code",
      "source": [
        "fig,ax = plt.subplots()\n",
        "ax.set_title('Actividad 11 \\n Rivera Arroyo Paula')\n",
        "ax.set_ylabel('Especies (S)')\n",
        "ax.set_xlabel('Número de raices muestreadas (n)')\n",
        "ax.plot(x,f1,'-')\n",
        "ax.grid()"
      ],
      "metadata": {
        "colab": {
          "base_uri": "https://localhost:8080/",
          "height": 310
        },
        "id": "ELTu-cOS4ylq",
        "outputId": "8f4f26f5-1bb3-40c4-b17e-f0935c71db19"
      },
      "execution_count": 5,
      "outputs": [
        {
          "output_type": "display_data",
          "data": {
            "text/plain": [
              "<Figure size 432x288 with 1 Axes>"
            ],
            "image/png": "[encoded data removed]"
          },
          "metadata": {
            "needs_background": "light"
          }
        }
      ]
    },
    {
      "cell_type": "code",
      "source": [],
      "metadata": {
        "id": "ZP0KIjoO48bj"
      },
      "execution_count": null,
      "outputs": []
    }
  ]
}